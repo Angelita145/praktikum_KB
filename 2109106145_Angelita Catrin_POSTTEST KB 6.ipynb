{
 "cells": [
  {
   "cell_type": "code",
   "execution_count": 1,
   "id": "0264bb19-b69d-428a-b1ec-588d3aaae79c",
   "metadata": {},
   "outputs": [
    {
     "data": {
      "text/html": [
       "<div>\n",
       "<style scoped>\n",
       "    .dataframe tbody tr th:only-of-type {\n",
       "        vertical-align: middle;\n",
       "    }\n",
       "\n",
       "    .dataframe tbody tr th {\n",
       "        vertical-align: top;\n",
       "    }\n",
       "\n",
       "    .dataframe thead th {\n",
       "        text-align: right;\n",
       "    }\n",
       "</style>\n",
       "<table border=\"1\" class=\"dataframe\">\n",
       "  <thead>\n",
       "    <tr style=\"text-align: right;\">\n",
       "      <th></th>\n",
       "      <th>Entity</th>\n",
       "      <th>Code</th>\n",
       "      <th>Year</th>\n",
       "      <th>Outbound departures (tourists) per 1000 people</th>\n",
       "      <th>GDP per capita, PPP (constant 2017 international $)</th>\n",
       "      <th>Continent</th>\n",
       "    </tr>\n",
       "  </thead>\n",
       "  <tbody>\n",
       "    <tr>\n",
       "      <th>0</th>\n",
       "      <td>Abkhazia</td>\n",
       "      <td>OWID_ABK</td>\n",
       "      <td>2015</td>\n",
       "      <td>NaN</td>\n",
       "      <td>NaN</td>\n",
       "      <td>Asia</td>\n",
       "    </tr>\n",
       "    <tr>\n",
       "      <th>1</th>\n",
       "      <td>Afghanistan</td>\n",
       "      <td>AFG</td>\n",
       "      <td>2002</td>\n",
       "      <td>NaN</td>\n",
       "      <td>1280.4631</td>\n",
       "      <td>NaN</td>\n",
       "    </tr>\n",
       "    <tr>\n",
       "      <th>2</th>\n",
       "      <td>Afghanistan</td>\n",
       "      <td>AFG</td>\n",
       "      <td>2003</td>\n",
       "      <td>NaN</td>\n",
       "      <td>1292.3335</td>\n",
       "      <td>NaN</td>\n",
       "    </tr>\n",
       "    <tr>\n",
       "      <th>3</th>\n",
       "      <td>Afghanistan</td>\n",
       "      <td>AFG</td>\n",
       "      <td>2004</td>\n",
       "      <td>NaN</td>\n",
       "      <td>1260.0605</td>\n",
       "      <td>NaN</td>\n",
       "    </tr>\n",
       "    <tr>\n",
       "      <th>4</th>\n",
       "      <td>Afghanistan</td>\n",
       "      <td>AFG</td>\n",
       "      <td>2005</td>\n",
       "      <td>NaN</td>\n",
       "      <td>1352.3207</td>\n",
       "      <td>NaN</td>\n",
       "    </tr>\n",
       "    <tr>\n",
       "      <th>...</th>\n",
       "      <td>...</td>\n",
       "      <td>...</td>\n",
       "      <td>...</td>\n",
       "      <td>...</td>\n",
       "      <td>...</td>\n",
       "      <td>...</td>\n",
       "    </tr>\n",
       "    <tr>\n",
       "      <th>5490</th>\n",
       "      <td>Zimbabwe</td>\n",
       "      <td>ZWE</td>\n",
       "      <td>2016</td>\n",
       "      <td>220.858300</td>\n",
       "      <td>2286.6235</td>\n",
       "      <td>NaN</td>\n",
       "    </tr>\n",
       "    <tr>\n",
       "      <th>5491</th>\n",
       "      <td>Zimbabwe</td>\n",
       "      <td>ZWE</td>\n",
       "      <td>2017</td>\n",
       "      <td>187.647000</td>\n",
       "      <td>2331.7808</td>\n",
       "      <td>NaN</td>\n",
       "    </tr>\n",
       "    <tr>\n",
       "      <th>5492</th>\n",
       "      <td>Zimbabwe</td>\n",
       "      <td>ZWE</td>\n",
       "      <td>2018</td>\n",
       "      <td>152.004460</td>\n",
       "      <td>2399.6216</td>\n",
       "      <td>NaN</td>\n",
       "    </tr>\n",
       "    <tr>\n",
       "      <th>5493</th>\n",
       "      <td>Zimbabwe</td>\n",
       "      <td>ZWE</td>\n",
       "      <td>2019</td>\n",
       "      <td>213.291050</td>\n",
       "      <td>2203.3967</td>\n",
       "      <td>NaN</td>\n",
       "    </tr>\n",
       "    <tr>\n",
       "      <th>5494</th>\n",
       "      <td>Zimbabwe</td>\n",
       "      <td>ZWE</td>\n",
       "      <td>2020</td>\n",
       "      <td>63.370857</td>\n",
       "      <td>1990.3195</td>\n",
       "      <td>NaN</td>\n",
       "    </tr>\n",
       "  </tbody>\n",
       "</table>\n",
       "<p>5495 rows × 6 columns</p>\n",
       "</div>"
      ],
      "text/plain": [
       "           Entity      Code  Year  \\\n",
       "0        Abkhazia  OWID_ABK  2015   \n",
       "1     Afghanistan       AFG  2002   \n",
       "2     Afghanistan       AFG  2003   \n",
       "3     Afghanistan       AFG  2004   \n",
       "4     Afghanistan       AFG  2005   \n",
       "...           ...       ...   ...   \n",
       "5490     Zimbabwe       ZWE  2016   \n",
       "5491     Zimbabwe       ZWE  2017   \n",
       "5492     Zimbabwe       ZWE  2018   \n",
       "5493     Zimbabwe       ZWE  2019   \n",
       "5494     Zimbabwe       ZWE  2020   \n",
       "\n",
       "      Outbound departures (tourists) per 1000 people  \\\n",
       "0                                                NaN   \n",
       "1                                                NaN   \n",
       "2                                                NaN   \n",
       "3                                                NaN   \n",
       "4                                                NaN   \n",
       "...                                              ...   \n",
       "5490                                      220.858300   \n",
       "5491                                      187.647000   \n",
       "5492                                      152.004460   \n",
       "5493                                      213.291050   \n",
       "5494                                       63.370857   \n",
       "\n",
       "      GDP per capita, PPP (constant 2017 international $) Continent  \n",
       "0                                                   NaN        Asia  \n",
       "1                                             1280.4631         NaN  \n",
       "2                                             1292.3335         NaN  \n",
       "3                                             1260.0605         NaN  \n",
       "4                                             1352.3207         NaN  \n",
       "...                                                 ...         ...  \n",
       "5490                                          2286.6235         NaN  \n",
       "5491                                          2331.7808         NaN  \n",
       "5492                                          2399.6216         NaN  \n",
       "5493                                          2203.3967         NaN  \n",
       "5494                                          1990.3195         NaN  \n",
       "\n",
       "[5495 rows x 6 columns]"
      ]
     },
     "execution_count": 1,
     "metadata": {},
     "output_type": "execute_result"
    }
   ],
   "source": [
    "import pandas as pd\n",
    "import numpy as np\n",
    "from sklearn.metrics import r2_score, accuracy_score\n",
    "\n",
    "data = pd.read_csv('tourist-departures.csv')\n",
    "data"
   ]
  },
  {
   "cell_type": "markdown",
   "id": "be8b45e9-7993-4d89-8c82-023b84dca237",
   "metadata": {},
   "source": [
    "# DataSplit pada DataSet"
   ]
  },
  {
   "cell_type": "code",
   "execution_count": 2,
   "id": "ce8eb7bc-b9b7-41b4-8505-7950fc6ba913",
   "metadata": {},
   "outputs": [],
   "source": [
    "from sklearn.model_selection import train_test_split\n",
    "from sklearn.preprocessing import LabelEncoder"
   ]
  },
  {
   "cell_type": "code",
   "execution_count": 3,
   "id": "029f8e7d-e5b7-434f-9907-fe4f3b0dc0c0",
   "metadata": {},
   "outputs": [],
   "source": [
    "X = data.iloc[:,:-1] \n",
    "y = data.iloc[:,-1]"
   ]
  },
  {
   "cell_type": "markdown",
   "id": "0eb1d80f-77f3-4138-ba9e-daa0b9256dcc",
   "metadata": {},
   "source": [
    "Ubah variable target menjadi 0 dan 1"
   ]
  },
  {
   "cell_type": "code",
   "execution_count": 4,
   "id": "7d271140-8746-4cc5-b166-13cb4342e112",
   "metadata": {},
   "outputs": [],
   "source": [
    "label_encoder = LabelEncoder()\n",
    "y = label_encoder.fit_transform(y)\n",
    "\n",
    "X_train, X_test, y_train, y_test = train_test_split(X, y, test_size = 0.2, random_state = 42)"
   ]
  },
  {
   "cell_type": "markdown",
   "id": "7b033051-9038-42c7-ae0d-cc2fe6534c49",
   "metadata": {},
   "source": [
    "Memisah kolom numerik dan kategorial"
   ]
  },
  {
   "cell_type": "code",
   "execution_count": 5,
   "id": "a386817c-a471-41c3-8b1a-68bee248a147",
   "metadata": {},
   "outputs": [],
   "source": [
    "numeric_cols = [col for col in X_train.columns if X_train[col].dtype != 'object']\n",
    "categorical_cols = [col for col in X_train.columns if X_train[col].dtype == 'object']"
   ]
  },
  {
   "cell_type": "markdown",
   "id": "c11d95dc-bdd9-4f24-8c7e-68870333977b",
   "metadata": {},
   "source": [
    "Menggunakan OneHotEncoder untuk kolom kategorial"
   ]
  },
  {
   "cell_type": "code",
   "execution_count": 6,
   "id": "7b8e96b8-d9d2-421a-a2de-e57ba589b006",
   "metadata": {},
   "outputs": [],
   "source": [
    "from sklearn.preprocessing import OneHotEncoder"
   ]
  },
  {
   "cell_type": "code",
   "execution_count": 7,
   "id": "a004879b-d9ab-49c2-a403-83ef24d0b888",
   "metadata": {},
   "outputs": [],
   "source": [
    "encoder = OneHotEncoder(sparse_output = False, handle_unknown = 'ignore')"
   ]
  },
  {
   "cell_type": "code",
   "execution_count": 8,
   "id": "a10beb15-fad4-46be-88f6-d6c2e8f0ce2d",
   "metadata": {},
   "outputs": [],
   "source": [
    "X_train_encoded = encoder.fit_transform(X_train[categorical_cols])\n",
    "X_test_encoded = encoder.transform(X_test[categorical_cols])"
   ]
  },
  {
   "cell_type": "markdown",
   "id": "86a2b82e-5e46-4675-8aa9-e425bab266fe",
   "metadata": {},
   "source": [
    "Konversi data set menjadi 'float32'"
   ]
  },
  {
   "cell_type": "code",
   "execution_count": 9,
   "id": "7dacc843-5a24-49f3-97dc-305403da7920",
   "metadata": {},
   "outputs": [],
   "source": [
    "X_train[numeric_cols] = X_train[numeric_cols].astype('float32')\n",
    "X_test[numeric_cols] = X_test[numeric_cols].astype('float32')\n",
    "y_train = y_train.astype('float32')\n",
    "y_test = y_test.astype('float32')"
   ]
  },
  {
   "cell_type": "markdown",
   "id": "e718e3f5-c754-419f-bd93-f36eef6b0501",
   "metadata": {},
   "source": [
    "# Model Sequential"
   ]
  },
  {
   "cell_type": "code",
   "execution_count": 10,
   "id": "0a39078f-f0c9-461d-8750-a135fb37c909",
   "metadata": {},
   "outputs": [],
   "source": [
    "import tensorflow as tf\n",
    "from tensorflow import keras"
   ]
  },
  {
   "cell_type": "code",
   "execution_count": 11,
   "id": "d5c34d39-e9fa-45d0-876f-cea583f91374",
   "metadata": {},
   "outputs": [],
   "source": [
    "model = tf.keras.Sequential([\n",
    "        tf.keras.layers.Dense(64, activation='relu', input_shape = (None, 101)),\n",
    "        tf.keras.layers.Dense(32, activation='relu'),\n",
    "        tf.keras.layers.Dense(1, activation='sigmoid')\n",
    "])"
   ]
  },
  {
   "cell_type": "code",
   "execution_count": 12,
   "id": "c7627a51-1d30-4425-8ec4-3ad5612e5baf",
   "metadata": {},
   "outputs": [
    {
     "name": "stdout",
     "output_type": "stream",
     "text": [
      "Model: \"sequential\"\n",
      "_________________________________________________________________\n",
      " Layer (type)                Output Shape              Param #   \n",
      "=================================================================\n",
      " dense (Dense)               (None, None, 64)          6528      \n",
      "                                                                 \n",
      " dense_1 (Dense)             (None, None, 32)          2080      \n",
      "                                                                 \n",
      " dense_2 (Dense)             (None, None, 1)           33        \n",
      "                                                                 \n",
      "=================================================================\n",
      "Total params: 8641 (33.75 KB)\n",
      "Trainable params: 8641 (33.75 KB)\n",
      "Non-trainable params: 0 (0.00 Byte)\n",
      "_________________________________________________________________\n"
     ]
    }
   ],
   "source": [
    "model.summary()"
   ]
  },
  {
   "cell_type": "code",
   "execution_count": 14,
   "id": "c1669680-1a12-419a-8743-80317816e3e2",
   "metadata": {},
   "outputs": [],
   "source": [
    "import tensorflow as tf\n",
    "from tensorflow.keras.models import Sequential\n",
    "from tensorflow.keras.layers import Dense"
   ]
  },
  {
   "cell_type": "code",
   "execution_count": 15,
   "id": "a0a31460-e0d0-4c66-b180-41a40139c56f",
   "metadata": {},
   "outputs": [],
   "source": [
    "input_dim = X_train_encoded.shape[1]  \n",
    "model = Sequential()\n",
    "model.add(Dense(128, input_dim=input_dim, activation='relu'))\n",
    "\n",
    "model.add(Dense(1, activation='sigmoid'))  "
   ]
  },
  {
   "cell_type": "code",
   "execution_count": 16,
   "id": "0571e362-c9db-4864-80d1-a0850ac199a5",
   "metadata": {},
   "outputs": [],
   "source": [
    "model.compile(optimizer = 'sgd', loss = 'binary_crossentropy', metrics = ['accuracy'])"
   ]
  },
  {
   "cell_type": "markdown",
   "id": "e47d4d98-b9af-4545-9e0f-38325486e60b",
   "metadata": {},
   "source": [
    "# Menggunakan Callsback"
   ]
  },
  {
   "cell_type": "code",
   "execution_count": 19,
   "id": "2fc75f7f-00c4-4d90-8b61-a177f0c97f2e",
   "metadata": {},
   "outputs": [],
   "source": [
    "class MyCallback(tf.keras.callbacks.Callback):\n",
    "    def on_epoch_end(self, epoch, logs={}):\n",
    "        if(logs.get('accuracy') > 0.93 and logs.get('val_accuracy') > 0.93):\n",
    "            self.model.stop_training = True"
   ]
  },
  {
   "cell_type": "markdown",
   "id": "1e576af8-6835-4056-a9cb-08ea7d5530eb",
   "metadata": {},
   "source": [
    "# Melatih model"
   ]
  },
  {
   "cell_type": "code",
   "execution_count": 20,
   "id": "76b4c0fb-f284-4df8-bfdc-dc56dadd88ec",
   "metadata": {},
   "outputs": [
    {
     "name": "stdout",
     "output_type": "stream",
     "text": [
      "Epoch 1/10\n",
      "138/138 [==============================] - 1s 5ms/step - loss: nan - accuracy: 9.0992e-04 - val_loss: nan - val_accuracy: 0.0000e+00\n",
      "Epoch 2/10\n",
      "138/138 [==============================] - 1s 5ms/step - loss: nan - accuracy: 0.0071 - val_loss: nan - val_accuracy: 0.0109\n",
      "Epoch 3/10\n",
      "138/138 [==============================] - 1s 5ms/step - loss: nan - accuracy: 0.0111 - val_loss: nan - val_accuracy: 0.0109\n",
      "Epoch 4/10\n",
      "138/138 [==============================] - 1s 5ms/step - loss: nan - accuracy: 0.0111 - val_loss: nan - val_accuracy: 0.0109\n",
      "Epoch 5/10\n",
      "138/138 [==============================] - 1s 5ms/step - loss: nan - accuracy: 0.0111 - val_loss: nan - val_accuracy: 0.0109\n",
      "Epoch 6/10\n",
      "138/138 [==============================] - 1s 5ms/step - loss: nan - accuracy: 0.0111 - val_loss: nan - val_accuracy: 0.0109\n",
      "Epoch 7/10\n",
      "138/138 [==============================] - 1s 5ms/step - loss: nan - accuracy: 0.0111 - val_loss: nan - val_accuracy: 0.0109\n",
      "Epoch 8/10\n",
      "138/138 [==============================] - 1s 5ms/step - loss: nan - accuracy: 0.0111 - val_loss: nan - val_accuracy: 0.0109\n",
      "Epoch 9/10\n",
      "138/138 [==============================] - 1s 5ms/step - loss: nan - accuracy: 0.0111 - val_loss: nan - val_accuracy: 0.0109\n",
      "Epoch 10/10\n",
      "138/138 [==============================] - 1s 5ms/step - loss: nan - accuracy: 0.0111 - val_loss: nan - val_accuracy: 0.0109\n"
     ]
    }
   ],
   "source": [
    "call = MyCallback()\n",
    "history = model.fit(\n",
    "    X_train_encoded,\n",
    "    y_train,\n",
    "    epochs=10,\n",
    "    batch_size = 32,\n",
    "    validation_data=(X_test_encoded, y_test),\n",
    "    callbacks=[call]\n",
    ")"
   ]
  },
  {
   "cell_type": "markdown",
   "id": "86783e46-ca0e-4897-a3cd-3da2257fffc0",
   "metadata": {},
   "source": [
    "# Evaluasi Model"
   ]
  },
  {
   "cell_type": "code",
   "execution_count": 22,
   "id": "d299c051-26e1-4efe-9b5c-c3953ed12517",
   "metadata": {},
   "outputs": [
    {
     "name": "stdout",
     "output_type": "stream",
     "text": [
      "35/35 [==============================] - 0s 4ms/step - loss: nan - accuracy: 0.0109\n",
      "Test loss     : nan\n",
      "Test accuracy : 0.010919017717242241\n"
     ]
    }
   ],
   "source": [
    "score = model.evaluate(X_test_encoded, y_test, verbose=1)\n",
    "print('Test loss     :', score[0])\n",
    "print('Test accuracy :', score[1])"
   ]
  },
  {
   "cell_type": "markdown",
   "id": "b3239b1e-c722-4948-86b4-eb98b0e2846f",
   "metadata": {},
   "source": [
    "# Grafik perbandingan accuracy dan loss dari train dan test"
   ]
  },
  {
   "cell_type": "code",
   "execution_count": 23,
   "id": "1f934b6d-08c3-4c25-a29e-63a05eb46095",
   "metadata": {},
   "outputs": [
    {
     "data": {
      "image/png": "[encoded data removed]",
      "text/plain": [
       "<Figure size 1200x500 with 2 Axes>"
      ]
     },
     "metadata": {},
     "output_type": "display_data"
    }
   ],
   "source": [
    "from matplotlib import pyplot as plt\n",
    "\n",
    "plt.figure(figsize=(12, 5))\n",
    "\n",
    "plt.subplot(1, 2, 1)\n",
    "plt.plot(history.history['loss'], label='Training Loss')\n",
    "plt.plot(history.history['val_loss'], label='Validation Loss')\n",
    "plt.xlabel('Epoch')\n",
    "plt.ylabel('Loss')\n",
    "plt.legend()\n",
    "plt.title('Model Loss')\n",
    "\n",
    "plt.subplot(1, 2, 2)\n",
    "plt.plot(history.history['accuracy'], label='Training Accuracy')\n",
    "plt.plot(history.history['val_accuracy'], label='Validation Accuracy')\n",
    "plt.xlabel('Epoch')\n",
    "plt.ylabel('Accuracy')\n",
    "plt.legend()\n",
    "plt.title('Model Accuracy')\n",
    "\n",
    "plt.tight_layout()\n",
    "plt.show()"
   ]
  },
  {
   "cell_type": "code",
   "execution_count": null,
   "id": "ae96f21f-8ab0-474f-bbd6-a632eced6f2d",
   "metadata": {},
   "outputs": [],
   "source": []
  }
 ],
 "metadata": {
  "kernelspec": {
   "display_name": "Python 3 (ipykernel)",
   "language": "python",
   "name": "python3"
  },
  "language_info": {
   "codemirror_mode": {
    "name": "ipython",
    "version": 3
   },
   "file_extension": ".py",
   "mimetype": "text/x-python",
   "name": "python",
   "nbconvert_exporter": "python",
   "pygments_lexer": "ipython3",
   "version": "3.10.7"
  }
 },
 "nbformat": 4,
 "nbformat_minor": 5
}
